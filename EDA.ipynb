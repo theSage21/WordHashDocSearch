{
 "cells": [
  {
   "cell_type": "markdown",
   "metadata": {
    "toc": true
   },
   "source": [
    "<h1>Table of Contents<span class=\"tocSkip\"></span></h1>\n",
    "<div class=\"toc\"><ul class=\"toc-item\"></ul></div>"
   ]
  },
  {
   "cell_type": "code",
   "execution_count": 1,
   "metadata": {},
   "outputs": [
    {
     "name": "stdout",
     "output_type": "stream",
     "text": [
      "Populating the interactive namespace from numpy and matplotlib\n"
     ]
    }
   ],
   "source": [
    "import numpy as np\n",
    "import pandas as pd\n",
    "from squad_df import v2\n",
    "from sklearn.feature_extraction.text import TfidfVectorizer\n",
    "from word_hash import CharIdf\n",
    "from collections import Counter\n",
    "from blingfire import text_to_words\n",
    "import seaborn as sns\n",
    "%pylab inline\n",
    "plt.style.use('ggplot')"
   ]
  },
  {
   "cell_type": "code",
   "execution_count": 2,
   "metadata": {},
   "outputs": [
    {
     "name": "stdout",
     "output_type": "stream",
     "text": [
      "[' ', 'e', 't', 'a', 'i', 'n', 'o', 's', 'r', 'h', 'l', 'd', 'c', 'u', 'm', 'p', 'f', 'g', 'y', 'b', 'w', ',', 'v', '.', 'k', '1', '0', '\"', 'x', '-', '2', '9', 'j', ')', '(', \"'\", 'z', '5', '8', 'q', '3', '4', '7', '6', ';', ':', '%', '–', '/', ']']\n",
      "50 letters\n"
     ]
    },
    {
     "name": "stderr",
     "output_type": "stream",
     "text": [
      "100%|██████████| 972/972 [00:10<00:00, 92.29it/s]\n",
      "100%|██████████| 1000/1000 [00:05<00:00, 177.42it/s]\n"
     ]
    },
    {
     "name": "stdout",
     "output_type": "stream",
     "text": [
      "documents (972, 127550)\n",
      "questions (1000, 127550)\n",
      "matches   (1000,)\n",
      "correct   [False False False False False False False False False False False False\n",
      " False False False False False False False False False False False False\n",
      " False False False False False False False False False False False False\n",
      " False False False False False False False False False False False False\n",
      " False False False False False False False False False False False False\n",
      " False False False False False False False False False False False False\n",
      " False False False False False False False False False False False False\n",
      " False False False False False False False False False False False False\n",
      " False False False False False False False False False False False False\n",
      " False False False False False False False False False False False False\n",
      " False False False False False False False False False False False False\n",
      " False False False False False False False False False False False False\n",
      " False False False False False False False False False False False False\n",
      " False False False False False False False False False False False False\n",
      " False False False False False False False False False False False False\n",
      " False False False False False False False False False False False False\n",
      " False False False False False False False False False False False False\n",
      " False False False False False False False False False False False False\n",
      " False False False False False False False False False False False False\n",
      " False False False False False False False False False False False False\n",
      " False False False False False False False False False False False False\n",
      " False False False False False False False False False False False False\n",
      " False False False False False False False False False False False False\n",
      " False False False False False False False False False False False False\n",
      " False False False False False False False False False False False False\n",
      " False False False False False False False False False False False False\n",
      " False False False False False False False False False False False False\n",
      " False False False False False False False False False False False False\n",
      " False False False False False False False False False False False False\n",
      " False False False False False False False False False False False False\n",
      " False False False False False False False False False False False False\n",
      " False False False False False False False False False False False False\n",
      " False False False False False False False False False False False False\n",
      " False False False False False False False False False False False False\n",
      " False False False False False False False False False False False False\n",
      " False False False False False False False False False False False False\n",
      " False False False False False False False False False False False False\n",
      " False False False False False False False False False False False False\n",
      " False False False False False False False False False False False False\n",
      " False False False False False False False False False False False False\n",
      " False False False False False False False False False False False False\n",
      " False False False False False False False False False False False False\n",
      " False False False False False False False False False False False False\n",
      " False False False False False False False False False False False False\n",
      " False False False False False False False False False False False False\n",
      " False False False False False False False False False False False False\n",
      " False False False False False False False False False False False False\n",
      " False False False False False False False False False False False False\n",
      " False False False False False False False False False False False False\n",
      " False False False False False False False False False False False False\n",
      " False False False False False False False False False False False False\n",
      " False False False False False False False False False False False False\n",
      " False False False False False False False False False False False False\n",
      " False False False False False False False False False False False False\n",
      " False False False False False False False False False False False False\n",
      " False False False False False False False False False False False False\n",
      " False False False False False False False False False False False False\n",
      " False False False False False False False False False False False False\n",
      " False False False False False False False False False False False False\n",
      " False False False False False False False False False False False False\n",
      " False False False False False False False False False False False False\n",
      " False False False False False False False False False False False False\n",
      " False False False False False False False False False False False False\n",
      " False False False False False False False False False False False False\n",
      " False False False False False False False False False False False False\n",
      " False False False False False False False False False False False False\n",
      " False False False False False False False False False False False False\n",
      " False False False False False False False False False False False False\n",
      " False False False False False False False False False False False False\n",
      " False False False False False False False False False False False False\n",
      " False False False False False False False False False False False False\n",
      " False False False False False False False False False False False False\n",
      " False False False False False False False False False False False False\n",
      " False False False False False False False False False False False False\n",
      " False False False False False False False False False False False False\n",
      " False False False False False False False False False False False False\n",
      " False False False False False False False False False False False False\n",
      " False False False False False False False False False False False False\n",
      " False False False False False False False False False False False False\n",
      " False False False False False False False False False False False False\n",
      " False False False False False False False False False False False False\n",
      " False False False False False False False False False False False False\n",
      " False False False False False False False False False False False False\n",
      " False False False False]\n"
     ]
    }
   ],
   "source": [
    "\n",
    "df = pd.DataFrame(list(v2))\n",
    "df = df.loc[df.is_train]\n",
    "df = df.sample(df.shape[0])\n",
    "df = df.reset_index()\n",
    "df = df[:1000]  # keep it small for now\n",
    "all_text = \"\".join(text_to_words(\" \".join(df.context).lower()))\n",
    "all_letters = [letter for letter, count in Counter(all_text).most_common(50)]\n",
    "print(all_letters)\n",
    "print(f\"{len(all_letters)} letters\")\n",
    "\n",
    "vec = CharIdf(all_letters, ngrams=3)\n",
    "docs = list(set(df.context))\n",
    "expected_indices = np.array([docs.index(doc) for doc in df.context])\n",
    "x = vec.fit_transform(docs)\n",
    "qv = vec.transform(df.question)\n",
    "result = pd.np.argmax(pd.np.einsum(\"kd,md->km\", x, qv), axis=0)\n",
    "print(\"documents\", x.shape)\n",
    "print(\"questions\", qv.shape)\n",
    "print(\"matches  \", result.shape)\n",
    "print(\"correct  \", result == expected_indices)"
   ]
  },
  {
   "cell_type": "code",
   "execution_count": 3,
   "metadata": {},
   "outputs": [
    {
     "data": {
      "text/plain": [
       "array([ 10,   1,   1,   0,   0,   0,   0,   0,   4,   1,   0,   0,   0,\n",
       "         0,   0,   2,   0,   2,   0,   0,   0,   0,   0,   0,   0,  16,\n",
       "         1,   0,   0,   1,   0, 397,   0,   0,   0,   0,   1,   0,   0,\n",
       "         1,   0,   0,   0,   0,   0,   0,   0,   1,   0,   1,   1,   1,\n",
       "         0,   0,   2,   0,  18,   0,   0,   2,  16,   0,   2,   1,   0,\n",
       "         1,   0,   0,   0,   0,   0,   0,   0,   0,   0,   2,   0,   0,\n",
       "         2,   0,   0,   0,   0,   0,   0,   0,  34,   0,   0,   0,   1,\n",
       "         0,   1,   6,   4,   0,   1,   0,   1,   0,   0,   0,   1,   1,\n",
       "         1,   4,   0,   0,   0,   1,   0,   0,   0,   0,  10,   0,   0,\n",
       "         6,   0,   0,   0,   1,   0,   2,   1,   0,   0,   0,   0,   0,\n",
       "         0,   0,   1,   0,   0,   0,   0,   1,   0,   2,   2,   2,   0,\n",
       "         0,   0,   0,   0,   0,   0,   1,   0,   0,   1,   0,   0,   2,\n",
       "         0,   0,   0,   0,   2,   0,   0,   0,   0,   0,   0,   1,   0,\n",
       "         2,   0,   0,   1,   1,   0,   4,   0,   1,   0,   0,   0,   2,\n",
       "         0,   0,   0,   0,   0,   0,   1,   2,   0,   0,   0,  10,   0,\n",
       "         0,   6,   0,   0,   0,   0,   1,   1,   0,   2,   1,   0,   0,\n",
       "         1,   0,   0,   1,   0,   0,   0,   1,  10,   0,   0,   4,   1,\n",
       "         1,   0,   1,   1,   0,   0,   4,   0,   0,   0,   1,   6,   0,\n",
       "         0,   1,   0,   0,   6,   0,   0,   0,   0,   1,   2,   0,   1,\n",
       "         0,   0,   0,   1,   1,   0,   1,   2,   1,   0,   0,   0,   4,\n",
       "         1,   0,   1,   0,   0,   0,   0,   0,   0,   0,   0,   0,   2,\n",
       "         0,   1,   0,   1,   0,   4,   0,   0,   0,   0,   6,   1,   0,\n",
       "         0,   4,   0,   0,   0,   0,   1,   1,   0,   2,   0,   0,   0,\n",
       "         1,   0,   0,   0,   0,   4,   0,   0,   2,   1,   0,   0,   0,\n",
       "         0,   1,   0,   0,   1,   4,   0,   0,   1,   0,   0,   6,   0,\n",
       "         0,   0,   0,   0,   0,   0,   0,   0,   0,   1,   0,   0,   1,\n",
       "         0,   1,   0,   0,   0,  18,   0,   1,   0,   0,   0,   0,   0,\n",
       "         0,   2,   0,   0,   0,   0,   0,   0,   0,   0,   1,   0,   0,\n",
       "         1,   1,   0,   0,   1,   0,   0,   1,  14,   0,   1,   1,   0,\n",
       "         0,   0,   1,   0,   0,   0,   0,   1,   0,   0,   0,   0,   0,\n",
       "         0,   0,   0,   4,   0,   0,   2,   0,   0,   0,   0,   0,   0,\n",
       "         0,   0,   0,   0,   1,   0,   0,   0,   0,   0,   0,   2,   0,\n",
       "         0,   2,   1,   0,   0,   0,   0,   2,   1,   1,   1,   1,   0,\n",
       "         0,   0,   4,   2,   0,  18,   0,   0,   1,   1,   0,   0,   0,\n",
       "         0,   0,   0,   0,   0,   4,   0,   0,   2,   1,   0,   0,   0,\n",
       "         0,   0,   0,   0,   2,   0,  14,   0,   0,   1,   0,   0,   2,\n",
       "         0,   1,   0,   0,   1,   2,   0,   0,   0,   0,   0,   1,   1,\n",
       "         0,   0,   0,   0,   1,   0,   0,   0,   1,   1,   0,   0,   0,\n",
       "         1,   0,   1,   0,   0,   0,   0,   0,   0,   1,   0,   0,   4,\n",
       "         0,   0,   6,   2,   0,   0,   0,   1,   0,   2,   1,   1,   1,\n",
       "         0,   0,   0,   1,   0,   0,   0,   0,   0,   4,   0,   0,   0,\n",
       "         1,   1,   0,   0,   0,   6,   0,   0,   1,   0,   0,   0,   1,\n",
       "         0,   0,   1,   1,   6,   0,   0,   0,   0,   1,   4,   1,   2,\n",
       "         4,   0,   0,   0,   2,   0,   0,   0,  34,   1,   2,   0,   0,\n",
       "         0,   6,   1,   2,   1,   0,   2,   0,   0,   0,   0,   0,   4,\n",
       "         0,   6,   0,   0,   0,   6,   1,   0,   0,   4,   2,   0,   2,\n",
       "         0,   0,   0,   0,   0,   1,  10,   0,   1,   0,   1,   6,   0,\n",
       "         0,   0,   0,   0,   1,   1,   0,   0,   0,   0,   0,   1,   4,\n",
       "         0,   0,   0,   0,   0,   0,   0,   0,   0,   0,   1,   2,   0,\n",
       "         0,   0,   2,   0,   6,   0,   0,   1,   0,   0,   0,   0,   0,\n",
       "         0,   0,   4,   0,   0,   4,   2,   0,   0,   1,   2,   1,   0,\n",
       "         1,   0,   1,   0,   0,   0,   0,   1,   1,   6,   1,   0,   2,\n",
       "        14,   1,   0,   0,   1,   6,   0,   0,   0,   1,   0,   2,   0,\n",
       "         1,   0,   2,   0,   1,   0,   0,   0,   0,   2,   0,   0,   2,\n",
       "         0,   1,   0,   0,   0,   0,   1,   0,   6,   0,   0,   1,   0,\n",
       "         0,   0,   1,   1,   0,   0,   0,   0,  10,   0,   0,   0,   0,\n",
       "         4,   0,   0,   1,   0,   0,   0,   0,   0,   0,   0,   0,   6,\n",
       "         0,   1,   0,   1,   4,   0,   0,   4,   0,   1,   0,   0,   0,\n",
       "         4,   0,   0,   0,   0,   0,   0,   0,   0,   0,   0,   0,   0,\n",
       "         1,   1,   1,   0,   1,   0,   0,   4,   0,   1,   0,   0,   1,\n",
       "         0,   0,   2,   0,   0,   2,   2,   0,   0,   0,   1,   0,   0,\n",
       "        29,   0,   0,   0,   0,   2,   0,   0,   2,   0,   0,   0,   0,\n",
       "         0,   6,   0,   0,   0,   0,   1,   1,   0,   0,   0,   0,   0,\n",
       "         1,   6,   0,   2,   0,   0,   0,   0,   0,   0,   0,  15,   0,\n",
       "         0,   0,   4,   0,   0,   6,   0,  57,   0,   0,   0,   0,   0,\n",
       "         1,   0,   0,   0,   1,   1,   6,   2,   2,   0,   0,   0,   0,\n",
       "         0,   0,   1,   4,   0,   1,   2,  14,   1,   0,   0,   1,   0,\n",
       "         0,   0,   6,   2,   0,   0,   0,   0,   0,   0,   4,   0,   0,\n",
       "         0,   0,   0,   0,   0,   0,   0,   6,   0,   0,   0,  16,   0,\n",
       "         0,   1,   0,   0,   1,   0,   0,   1,   2,   2,   6,   1,   0,\n",
       "         0,   0,   0,   2,   0,   0,   0,  10,   0,   2,   0,   0,   0,\n",
       "         0,   0,   0,   0,   0,   0,   0,   0,   0,   0,   0,   2,   0,\n",
       "         1,   4,   0,   0,   0,   0,   1,   0,   0,   0,   5,   2,   0,\n",
       "         2,   0,   1,   0,   0,   0,   0,  16,   0,   1,   1,   1,   4,\n",
       "        34,   0,   0,   0,   0,   0,   0,   0,   1,   1,   6,   0,   0,\n",
       "         0,   1,   0,   0,   0,   2,   0,   0,   0,   1,   0,   6,   1,\n",
       "         1,   0,   0,   0,   0,   0,   1,   0,   2,   1,   1,   2])"
      ]
     },
     "execution_count": 3,
     "metadata": {},
     "output_type": "execute_result"
    }
   ],
   "source": [
    "result"
   ]
  }
 ],
 "metadata": {
  "kernelspec": {
   "display_name": "Python 3",
   "language": "python",
   "name": "python3"
  },
  "language_info": {
   "codemirror_mode": {
    "name": "ipython",
    "version": 3
   },
   "file_extension": ".py",
   "mimetype": "text/x-python",
   "name": "python",
   "nbconvert_exporter": "python",
   "pygments_lexer": "ipython3",
   "version": "3.6.6"
  },
  "toc": {
   "base_numbering": 1,
   "nav_menu": {},
   "number_sections": true,
   "sideBar": true,
   "skip_h1_title": true,
   "title_cell": "Table of Contents",
   "title_sidebar": "Contents",
   "toc_cell": true,
   "toc_position": {},
   "toc_section_display": true,
   "toc_window_display": false
  }
 },
 "nbformat": 4,
 "nbformat_minor": 2
}
